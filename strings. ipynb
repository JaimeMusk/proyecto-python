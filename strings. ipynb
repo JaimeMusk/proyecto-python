

###Convertir a Mayuscula la primera letra###

cadena = 'hola immuners'
print(cadena.capitalize())

### convertir cadena en minusculas###
cadena = 'hOla imuNers'
print(cadena.swapcase)


(cadena.center(120,'')) ### Cadena en el medio###
"""""""""""""""""""""""" cadena.just ###alinear a la izq###
""""""""""""""""""""""" cadena rjust### alinear a la derecha###
numero_factura = 4557
##00004557#
print(numero_factura.zfill(8))


cadena2 = 'Bienvenido al programama'  ###mostrar numeor de a de la cadena
print(cadena2.count('a))


cadena3  = Bienvenidos al programa  ceb# muestra si la palabra esta en la cadena#
'ceb' in cadena3

adena3  = Bienvenidos al programa  ceb   ## saber si empieza con la palabra bienvenidos##
cadena3.startswith('Bienvenido')   /end,swith # si acaba en la palabra

cadena4 = 'Abcd1423'
cadena4.isalnum()